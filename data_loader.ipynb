{
 "cells": [
  {
   "cell_type": "code",
   "execution_count": 1,
   "id": "e64856d2",
   "metadata": {},
   "outputs": [],
   "source": [
    "import numpy as np\n",
    "import pandas as pd\n",
    "import sklearn as sk"
   ]
  },
  {
   "cell_type": "code",
   "execution_count": 2,
   "id": "b8f55aa8",
   "metadata": {},
   "outputs": [],
   "source": [
    "data=pd.read_csv(r\"data_folder\\Reduction_from_Random_Forest.csv\")"
   ]
  },
  {
   "cell_type": "code",
   "execution_count": 12,
   "id": "dc2beadb",
   "metadata": {},
   "outputs": [
    {
     "name": "stdout",
     "output_type": "stream",
     "text": [
      "Dataset returned as Norm_X (input) and Norm_Y (Outcome) (with normalization)\n"
     ]
    }
   ],
   "source": [
    "data=data.iloc[:,1:]\n",
    "Norm_X=data.iloc[:,:-7]\n",
    "Norm_Y=data.iloc[:,-6:-1]\n",
    "print('Dataset returned as Norm_X (input) and Norm_Y (Outcome) (with normalization)')"
   ]
  }
 ],
 "metadata": {
  "kernelspec": {
   "display_name": "Python 3",
   "language": "python",
   "name": "python3"
  },
  "language_info": {
   "codemirror_mode": {
    "name": "ipython",
    "version": 3
   },
   "file_extension": ".py",
   "mimetype": "text/x-python",
   "name": "python",
   "nbconvert_exporter": "python",
   "pygments_lexer": "ipython3",
   "version": "3.8.5"
  }
 },
 "nbformat": 4,
 "nbformat_minor": 5
}
