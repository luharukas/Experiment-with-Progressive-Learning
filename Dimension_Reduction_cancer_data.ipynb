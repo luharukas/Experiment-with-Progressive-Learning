{
 "cells": [
  {
   "cell_type": "code",
   "execution_count": 1,
   "id": "321faf88",
   "metadata": {},
   "outputs": [],
   "source": [
    "# Import all important libraries\n",
    "\n",
    "import pandas as pd\n",
    "import matplotlib.pyplot as plt\n",
    "import seaborn as sns"
   ]
  },
  {
   "cell_type": "code",
   "execution_count": 2,
   "id": "f7e3e4ac",
   "metadata": {},
   "outputs": [
    {
     "name": "stdout",
     "output_type": "stream",
     "text": [
      "Data loaded\n"
     ]
    }
   ],
   "source": [
    "#load_data\n",
    "def load_data():\n",
    "    data=pd.read_csv(r\"C:\\Users\\luhar\\Projects\\Experiment-with-Progressive-Learning\\data_folder\\data.csv\")\n",
    "    label=pd.read_csv(r\"C:\\Users\\luhar\\Projects\\Experiment-with-Progressive-Learning\\data_folder\\labels.csv\")\n",
    "    return data,label\n",
    "\n",
    "data,label=load_data()\n",
    "print(\"Data loaded\")"
   ]
  },
  {
   "cell_type": "code",
   "execution_count": 3,
   "id": "9a0c7694",
   "metadata": {},
   "outputs": [
    {
     "name": "stdout",
     "output_type": "stream",
     "text": [
      "**************Details of data*************\n",
      "<class 'pandas.core.frame.DataFrame'>\n",
      "RangeIndex: 801 entries, 0 to 800\n",
      "Columns: 20532 entries, Unnamed: 0 to gene_20530\n",
      "dtypes: float64(20531), object(1)\n",
      "memory usage: 125.5+ MB\n",
      "None\n",
      "\n",
      "**************Details of labels*************\n",
      "<class 'pandas.core.frame.DataFrame'>\n",
      "RangeIndex: 801 entries, 0 to 800\n",
      "Data columns (total 2 columns):\n",
      " #   Column      Non-Null Count  Dtype \n",
      "---  ------      --------------  ----- \n",
      " 0   Unnamed: 0  801 non-null    object\n",
      " 1   Class       801 non-null    object\n",
      "dtypes: object(2)\n",
      "memory usage: 12.6+ KB\n",
      "None\n",
      "Unnamed: 0    801\n",
      "Class           5\n",
      "dtype: int64\n"
     ]
    }
   ],
   "source": [
    "#Print details of data\n",
    "print(\"**************Details of data*************\")\n",
    "print(data.info())\n",
    "print()\n",
    "print(\"**************Details of labels*************\")\n",
    "print(label.info())\n",
    "print(label.nunique())\n"
   ]
  },
  {
   "cell_type": "code",
   "execution_count": 4,
   "id": "da400625",
   "metadata": {},
   "outputs": [
    {
     "name": "stdout",
     "output_type": "stream",
     "text": [
      "Null details\n",
      "************For Data***********\n",
      "Unnamed: 0    0\n",
      "gene_0        0\n",
      "gene_1        0\n",
      "gene_2        0\n",
      "gene_3        0\n",
      "             ..\n",
      "gene_20526    0\n",
      "gene_20527    0\n",
      "gene_20528    0\n",
      "gene_20529    0\n",
      "gene_20530    0\n",
      "Length: 20532, dtype: int64\n",
      "\n",
      "**************For label************\n",
      "Unnamed: 0    0\n",
      "Class         0\n",
      "dtype: int64\n"
     ]
    }
   ],
   "source": [
    "#check for null values\n",
    "print(\"Null details\")\n",
    "print(\"************For Data***********\")\n",
    "print(data.isnull().sum())\n",
    "print()\n",
    "print(\"**************For label************\")\n",
    "print(label.isnull().sum())"
   ]
  },
  {
   "cell_type": "code",
   "execution_count": 5,
   "id": "7d076a79",
   "metadata": {},
   "outputs": [
    {
     "name": "stdout",
     "output_type": "stream",
     "text": [
      "Columns dropped with all element 0\n"
     ]
    }
   ],
   "source": [
    "#dropping columns:\n",
    "print(\"Columns dropped with all element 0\")\n",
    "def drop_columns(data):\n",
    "    for col in data.columns:\n",
    "        if data[col].sum()==0:\n",
    "            data.drop(col,axis=1,inplace=True)\n",
    "    return data\n",
    "data=drop_columns(data)"
   ]
  },
  {
   "cell_type": "code",
   "execution_count": 6,
   "id": "572c81e7",
   "metadata": {},
   "outputs": [
    {
     "name": "stdout",
     "output_type": "stream",
     "text": [
      "PRAD 136\n",
      "LUAD 141\n",
      "BRCA 300\n",
      "KIRC 146\n",
      "COAD 78\n"
     ]
    }
   ],
   "source": [
    "for uni in label['Class'].unique():\n",
    "    print(uni, len(label[label['Class']==uni]))"
   ]
  },
  {
   "cell_type": "code",
   "execution_count": 7,
   "id": "2e807c9b",
   "metadata": {},
   "outputs": [
    {
     "name": "stdout",
     "output_type": "stream",
     "text": [
      "Normalization of data\n"
     ]
    }
   ],
   "source": [
    "# Normalizing data\n",
    "print(\"Normalization of data\")\n",
    "for col in data.columns[1:]:\n",
    "    maxi=data[col].max()\n",
    "    mini=data[col].min()\n",
    "    data[col]=(data[col]-mini)/(maxi-mini)"
   ]
  },
  {
   "cell_type": "code",
   "execution_count": 8,
   "id": "f2bab9ef",
   "metadata": {},
   "outputs": [],
   "source": [
    "encoding=pd.get_dummies(label['Class'])\n",
    "X=data.iloc[:,1:]"
   ]
  },
  {
   "cell_type": "code",
   "execution_count": 9,
   "id": "51c698db",
   "metadata": {},
   "outputs": [
    {
     "name": "stdout",
     "output_type": "stream",
     "text": [
      "Dimension Reduction done\n"
     ]
    }
   ],
   "source": [
    "# Method 1 for dimension reduction\n",
    "from sklearn.ensemble import RandomForestRegressor\n",
    "model=RandomForestRegressor(random_state=2,max_depth=5)\n",
    "model.fit(X,encoding)\n",
    "print(\"Dimension Reduction done\")"
   ]
  },
  {
   "cell_type": "code",
   "execution_count": 10,
   "id": "57196193",
   "metadata": {},
   "outputs": [],
   "source": [
    "import numpy as np\n",
    "features=X.columns\n",
    "importances=model.feature_importances_\n",
    "indices = np.argsort(importances)[-80:]  # top 80 features\n",
    "# plt.title('Feature Importances')\n",
    "# plt.barh(range(len(indices)), importances[indices], color='b', align='center')\n",
    "# plt.yticks(range(len(indices)), [features[i] for i in indices])\n",
    "# plt.xlabel('Relative Importance')\n",
    "# plt.show()"
   ]
  },
  {
   "cell_type": "code",
   "execution_count": 11,
   "id": "7d9b1a8f",
   "metadata": {},
   "outputs": [],
   "source": [
    "important_col=pd.DataFrame({\"col_name\":features,\"importance\":importances})"
   ]
  },
  {
   "cell_type": "code",
   "execution_count": 12,
   "id": "15f7cd6a",
   "metadata": {},
   "outputs": [],
   "source": [
    "important_col=pd.DataFrame(np.sort(important_col,axis=0),columns=[\"col_name\",\"importance\"]).iloc[-80:]"
   ]
  },
  {
   "cell_type": "code",
   "execution_count": 13,
   "id": "ae6f522a",
   "metadata": {},
   "outputs": [],
   "source": [
    "final_data=pd.DataFrame()\n",
    "for i in important_col.col_name:\n",
    "    final_data = pd.concat([final_data,data[i] ], join = 'outer', axis = 1)\n",
    "    \n"
   ]
  },
  {
   "cell_type": "code",
   "execution_count": 14,
   "id": "bd9af148",
   "metadata": {},
   "outputs": [],
   "source": [
    "final_data=pd.concat([final_data,label['Class']],join = 'outer', axis = 1)"
   ]
  },
  {
   "cell_type": "code",
   "execution_count": 15,
   "id": "14e508af",
   "metadata": {},
   "outputs": [],
   "source": [
    "final_data = pd.concat([final_data,encoding ], join = 'outer', axis = 1)"
   ]
  },
  {
   "cell_type": "code",
   "execution_count": 16,
   "id": "a73d32dc",
   "metadata": {},
   "outputs": [
    {
     "name": "stdout",
     "output_type": "stream",
     "text": [
      "Label Encoding done\n",
      "Finally, data preprocessing completed \n",
      "Final version of data is stored in 'final_data' \n",
      "final_data=    gene_9927  gene_9928  gene_9929  gene_993  gene_9930  gene_9931  gene_9932  \\\n",
      "0   0.074240   0.000000        0.0  0.317736   0.000000   0.000000   0.103426   \n",
      "1   0.000000   0.118172        0.0  0.611864   0.061145   0.178455   0.000000   \n",
      "2   0.000000   0.000000        0.0  0.457868   0.000000   0.396726   0.000000   \n",
      "3   0.000000   0.000000        0.0  0.549910   0.000000   0.315542   0.000000   \n",
      "4   0.045279   0.094607        0.0  0.657807   0.092543   0.435918   0.000000   \n",
      "\n",
      "   gene_9933  gene_9934  gene_9935  ...  gene_9997  gene_9998  gene_9999  \\\n",
      "0   0.549063   0.157050   0.066993  ...   0.592891        0.0   0.429999   \n",
      "1   0.587582   0.000000   0.091812  ...   0.377247        0.0   0.477273   \n",
      "2   0.177371   0.525680   0.000000  ...   0.346013        0.0   0.558179   \n",
      "3   0.253207   0.275804   0.117650  ...   0.590198        0.0   0.625669   \n",
      "4   0.617929   0.000000   0.144411  ...   0.149630        0.0   0.587541   \n",
      "\n",
      "   Class  BRCA  COAD  KIRC  LUAD  PRAD  label  \n",
      "0   PRAD     0     0     0     0     1      4  \n",
      "1   LUAD     0     0     0     1     0      3  \n",
      "2   PRAD     0     0     0     0     1      4  \n",
      "3   PRAD     0     0     0     0     1      4  \n",
      "4   BRCA     1     0     0     0     0      0  \n",
      "\n",
      "[5 rows x 87 columns]\n"
     ]
    }
   ],
   "source": [
    "from sklearn import preprocessing\n",
    "encoder = preprocessing.LabelEncoder()\n",
    "\n",
    "# encoding train labels \n",
    "encoder.fit(final_data['Class'])\n",
    "Y_train = pd.DataFrame(encoder.transform(final_data['Class']))\n",
    "final_data=pd.concat([final_data,Y_train ], join = 'outer', axis = 1)\n",
    "final_data.rename(columns={0:\"label\"},inplace=True)\n",
    "final_data\n",
    "print(\"Label Encoding done\")\n",
    "print(\"Finally, data preprocessing completed \")\n",
    "print(\"Final version of data is stored in 'final_data' \")\n",
    "print(\"final_data=\",final_data.head())"
   ]
  },
  {
   "cell_type": "code",
   "execution_count": 20,
   "id": "9e31f092",
   "metadata": {},
   "outputs": [],
   "source": [
    "final_data.to_csv(r\"data_folder\\Reduction_from_Random_Forest.csv\")"
   ]
  },
  {
   "cell_type": "code",
   "execution_count": null,
   "id": "5e2bf005",
   "metadata": {},
   "outputs": [],
   "source": []
  }
 ],
 "metadata": {
  "kernelspec": {
   "display_name": "Python 3",
   "language": "python",
   "name": "python3"
  },
  "language_info": {
   "codemirror_mode": {
    "name": "ipython",
    "version": 3
   },
   "file_extension": ".py",
   "mimetype": "text/x-python",
   "name": "python",
   "nbconvert_exporter": "python",
   "pygments_lexer": "ipython3",
   "version": "3.8.5"
  }
 },
 "nbformat": 4,
 "nbformat_minor": 5
}
